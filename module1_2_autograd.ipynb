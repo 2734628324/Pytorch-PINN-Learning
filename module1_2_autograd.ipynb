{
 "cells": [
  {
   "cell_type": "code",
   "execution_count": 4,
   "id": "386a663c",
   "metadata": {},
   "outputs": [
    {
     "name": "stdout",
     "output_type": "stream",
     "text": [
      "w= 3.0, b = -1.0, x = 2.0, z = 5.0, f = 86.0\n",
      "w.grad = 64.0, b.grad = 32.0\n"
     ]
    }
   ],
   "source": [
    "import torch\n",
    "x = torch.tensor([2], device='cuda', dtype=torch.float32)\n",
    "w = torch.tensor([3], device='cuda', dtype=torch.float32, requires_grad=True)\n",
    "b = torch.tensor([-1], device='cuda', dtype=torch.float32, requires_grad=True)\n",
    "\n",
    "z = w * x + b\n",
    "f = 3 * z ** 2 + 2 * z + 1\n",
    "\n",
    "print(f\"w= {w.item()}, b = {b.item()}, x = {x.item()}, z = {z.item()}, f = {f.item()}\")\n",
    "\n",
    "f.backward()\n",
    "print(f\"w.grad = {w.grad.item()}, b.grad = {b.grad.item()}\")"
   ]
  }
 ],
 "metadata": {
  "kernelspec": {
   "display_name": "Python (Python 3.13)",
   "language": "python",
   "name": "my_python313_env"
  },
  "language_info": {
   "codemirror_mode": {
    "name": "ipython",
    "version": 3
   },
   "file_extension": ".py",
   "mimetype": "text/x-python",
   "name": "python",
   "nbconvert_exporter": "python",
   "pygments_lexer": "ipython3",
   "version": "3.11.5"
  }
 },
 "nbformat": 4,
 "nbformat_minor": 5
}
