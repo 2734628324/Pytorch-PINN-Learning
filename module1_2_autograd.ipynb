{
 "cells": [
  {
   "cell_type": "code",
   "execution_count": 4,
   "id": "386a663c",
   "metadata": {},
   "outputs": [
    {
     "name": "stdout",
     "output_type": "stream",
     "text": [
      "w= 3.0, b = -1.0, x = 2.0, z = 5.0, f = 86.0\n",
      "w.grad = 64.0, b.grad = 32.0\n"
     ]
    }
   ],
   "source": [
    "import torch\n",
    "x = torch.tensor([2], device='cuda', dtype=torch.float32)\n",
    "w = torch.tensor([3], device='cuda', dtype=torch.float32, requires_grad=True)\n",
    "b = torch.tensor([-1], device='cuda', dtype=torch.float32, requires_grad=True)\n",
    "\n",
    "z = w * x + b\n",
    "f = 3 * z ** 2 + 2 * z + 1\n",
    "\n",
    "print(f\"w= {w.item()}, b = {b.item()}, x = {x.item()}, z = {z.item()}, f = {f.item()}\")\n",
    "\n",
    "f.backward()\n",
    "print(f\"w.grad = {w.grad.item()}, b.grad = {b.grad.item()}\")"
   ]
  },
  {
   "cell_type": "markdown",
   "id": "337f5a14",
   "metadata": {},
   "source": [
    "requires_grad=True: 这是一个开关。一旦你对一个张量打开了这个开关，它就变成了“可求导”的。PyTorch会开始追踪所有基于它的计算。通常，我们只对需要优化的参数（如神经网络的权重 w 和偏置 b）设置它。\n",
    "\n",
    ".backward(): 这是“播放录像并计算”的命令。当你对一个最终的计算结果（通常是损失函数 loss）调用 .backward() 时，PyTorch会沿着计算图反向传播，利用链式法则计算出图中所有 requires_grad=True 的张量相对于这个最终结果的梯度。\n",
    "\n",
    ".grad: 这是存放计算结果的“抽屉”。在调用 .backward() 之后，每个 requires_grad=True 的张量（比如 w）都会有一个 .grad 属性，里面存储着计算出的梯度值（\n",
    "fracpartialtextlosspartialw）。"
   ]
  }
 ],
 "metadata": {
  "kernelspec": {
   "display_name": "Python (Python 3.13)",
   "language": "python",
   "name": "my_python313_env"
  },
  "language_info": {
   "codemirror_mode": {
    "name": "ipython",
    "version": 3
   },
   "file_extension": ".py",
   "mimetype": "text/x-python",
   "name": "python",
   "nbconvert_exporter": "python",
   "pygments_lexer": "ipython3",
   "version": "3.11.5"
  }
 },
 "nbformat": 4,
 "nbformat_minor": 5
}
