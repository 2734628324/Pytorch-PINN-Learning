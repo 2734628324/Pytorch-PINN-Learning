{
 "cells": [
  {
   "cell_type": "code",
   "execution_count": null,
   "id": "c39d1e09",
   "metadata": {},
   "outputs": [],
   "source": []
  }
 ],
 "metadata": {
  "language_info": {
   "name": "python"
  }
 },
 "nbformat": 4,
 "nbformat_minor": 5
}
