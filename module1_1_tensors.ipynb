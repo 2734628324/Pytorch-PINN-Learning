{
 "cells": [
  {
   "cell_type": "code",
   "execution_count": null,
   "id": "1caae449",
   "metadata": {},
   "outputs": [
    {
     "name": "stdout",
     "output_type": "stream",
     "text": [
      "Using device: cuda\n"
     ]
    }
   ],
   "source": [
    "import torch \n",
    "import torch.nn as nn\n",
    "device = torch.device(\"cuda\" if torch.cuda.is_available() else \"cpu\")\n",
    "print(f\"Using device: {device}\")"
   ]
  },
  {
   "cell_type": "code",
   "execution_count": 23,
   "id": "c5bd9a8b",
   "metadata": {},
   "outputs": [
    {
     "name": "stdout",
     "output_type": "stream",
     "text": [
      "tensor([[75.0000, 77.2222, 79.4444],\n",
      "        [78.3333, 80.5556, 82.7778],\n",
      "        [81.6667, 83.8889, 86.1111]], device='cuda:0')\n"
     ]
    }
   ],
   "source": [
    "import torch\n",
    "device = torch.device(\"cuda\" if torch.cuda.is_available() else \"cpu\")\n",
    "x = torch.linspace(-5, 5, 10, device=device,dtype=torch.float32)\n",
    "y = torch.linspace(-5, 5, 10, device=device,dtype=torch.float32)\n",
    "grid_x, grid_y = torch.meshgrid(x, y, indexing='xy')\n",
    "z = torch.tensor(100, device=device, dtype=torch.float32)\n",
    "wb = torch.tensor([2,3], device=device, dtype=torch.float32)\n",
    "total_potential = z+ wb[0] * grid_x + wb[1] * grid_y\n",
    "print(total_potential[:3, :3])"
   ]
  },
  {
   "cell_type": "code",
   "execution_count": 11,
   "id": "a592c091",
   "metadata": {},
   "outputs": [
    {
     "name": "stdout",
     "output_type": "stream",
     "text": [
      "\n",
      "x_coords 张量: tensor([-5.0000, -3.8889, -2.7778, -1.6667, -0.5556,  0.5556,  1.6667,  2.7778,\n",
      "         3.8889,  5.0000], device='cuda:0')\n",
      "y_coords 张量: tensor([-5.0000, -3.8889, -2.7778, -1.6667, -0.5556,  0.5556,  1.6667,  2.7778,\n",
      "         3.8889,  5.0000], device='cuda:0')\n",
      "x_coords 的形状: torch.Size([10])\n",
      "y_coords 的形状: torch.Size([10])\n",
      "x_coords 的设备: cuda:0\n",
      "y_coords 的设备: cuda:0\n"
     ]
    }
   ],
   "source": [
    "x_coords = torch.linspace(-5, 5, 10, device=device,dtype=torch.float32)\n",
    "y_coords = torch.linspace(-5, 5, 10, device=device,dtype=torch.float32)\n",
    "print(f\"\\nx_coords 张量: {x_coords}\")\n",
    "print(f\"y_coords 张量: {y_coords}\")\n",
    "print(f\"x_coords 的形状: {x_coords.shape}\")\n",
    "print(f\"y_coords 的形状: {y_coords.shape}\")\n",
    "print(f\"x_coords 的设备: {x_coords.device}\")\n",
    "print(f\"y_coords 的设备: {y_coords.device}\")\n"
   ]
  },
  {
   "cell_type": "code",
   "execution_count": 15,
   "id": "931d29cb",
   "metadata": {},
   "outputs": [
    {
     "name": "stdout",
     "output_type": "stream",
     "text": [
      "\n",
      "grid_x 的形状: torch.Size([10, 10])\n",
      "grid_y 的形状: torch.Size([10, 10])\n",
      "grid_x 的设备: cuda:0\n",
      "grid_y 的设备: cuda:0\n",
      "grid_x (前3行3列):\n",
      "tensor([[-5.0000, -3.8889, -2.7778],\n",
      "        [-5.0000, -3.8889, -2.7778],\n",
      "        [-5.0000, -3.8889, -2.7778]], device='cuda:0')\n",
      "grid_y (前3行3列):\n",
      "tensor([[-5.0000, -5.0000, -5.0000],\n",
      "        [-3.8889, -3.8889, -3.8889],\n",
      "        [-2.7778, -2.7778, -2.7778]], device='cuda:0')\n"
     ]
    }
   ],
   "source": [
    "grid_x, grid_y = torch.meshgrid(x_coords, y_coords, indexing='xy')\n",
    "\n",
    "print(f\"\\ngrid_x 的形状: {grid_x.shape}\")\n",
    "print(f\"grid_y 的形状: {grid_y.shape}\")\n",
    "print(f\"grid_x 的设备: {grid_x.device}\")\n",
    "print(f\"grid_y 的设备: {grid_y.device}\")\n",
    "print(f\"grid_x (前3行3列):\\n{grid_x[:3, :3]}\")\n",
    "print(f\"grid_y (前3行3列):\\n{grid_y[:3, :3]}\")"
   ]
  },
  {
   "cell_type": "code",
   "execution_count": 16,
   "id": "bb117c79",
   "metadata": {},
   "outputs": [
    {
     "name": "stdout",
     "output_type": "stream",
     "text": [
      "\n",
      "base_potential 张量: 100.0\n",
      "coord_factor 张量: tensor([ 2., -3.], device='cuda:0')\n",
      "base_potential 的形状: torch.Size([])\n",
      "coord_factor 的形状: torch.Size([2])\n",
      "base_potential 的设备: cuda:0\n",
      "coord_factor 的设备: cuda:0\n"
     ]
    }
   ],
   "source": [
    "# --- 4. 创建物理参数 ---\n",
    "# 创建一个代表“全局基础势能”的标量（0维张量），base_potential = torch.tensor(100.0)。\n",
    "base_potential = torch.tensor(100.0, device=device)\n",
    "# 创建一个代表“坐标影响因子”的张量，coord_factor = torch.tensor([2.0, -3.0])，分别对应x和y方向。\n",
    "coord_factor = torch.tensor([2.0,-3.0], device=device)\n",
    "\n",
    "print(f\"\\nbase_potential 张量: {base_potential}\")\n",
    "print(f\"coord_factor 张量: {coord_factor}\")\n",
    "print(f\"base_potential 的形状: {base_potential.shape}\")\n",
    "print(f\"coord_factor 的形状: {coord_factor.shape}\")\n",
    "print(f\"base_potential 的设备: {base_potential.device}\")\n",
    "print(f\"coord_factor 的设备: {coord_factor.device}\")"
   ]
  },
  {
   "cell_type": "code",
   "execution_count": 18,
   "id": "8e5a9753",
   "metadata": {},
   "outputs": [
    {
     "name": "stdout",
     "output_type": "stream",
     "text": [
      "\n",
      "总势能已计算完成。\n",
      "\n",
      "Total_Potential 的形状: torch.Size([10, 10])\n",
      "Total_Potential 的前3行3列:\n",
      "tensor([[105.0000, 107.2222, 109.4444],\n",
      "        [101.6667, 103.8889, 106.1111],\n",
      "        [ 98.3333, 100.5556, 102.7778]], device='cuda:0')\n",
      "\n",
      "--- 任务完成 ---\n"
     ]
    }
   ],
   "source": [
    "# --- 5. 利用广播机制计算总势能 ---\n",
    "# 现在，我们要计算每个点的总势能，公式为：\n",
    "total_potential = base_potential + coord_factor[0] * grid_x + coord_factor[1] * grid_y\n",
    "print(\"\\n总势能已计算完成。\")\n",
    "\n",
    "print(f\"\\nTotal_Potential 的形状: {total_potential.shape}\")\n",
    "print(\"Total_Potential 的前3行3列:\")\n",
    "print(total_potential[:3, :3])\n",
    "\n",
    "print(\"\\n--- 任务完成 ---\")"
   ]
  }
 ],
 "metadata": {
  "kernelspec": {
   "display_name": "Python (Python 3.13)",
   "language": "python",
   "name": "my_python313_env"
  },
  "language_info": {
   "codemirror_mode": {
    "name": "ipython",
    "version": 3
   },
   "file_extension": ".py",
   "mimetype": "text/x-python",
   "name": "python",
   "nbconvert_exporter": "python",
   "pygments_lexer": "ipython3",
   "version": "3.11.5"
  }
 },
 "nbformat": 4,
 "nbformat_minor": 5
}
